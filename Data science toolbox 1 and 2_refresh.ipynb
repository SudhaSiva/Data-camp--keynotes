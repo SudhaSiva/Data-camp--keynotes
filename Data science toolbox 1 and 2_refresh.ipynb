{
 "cells": [
  {
   "cell_type": "code",
   "execution_count": 1,
   "metadata": {},
   "outputs": [
    {
     "name": "stdout",
     "output_type": "stream",
     "text": [
      "sudhakarsudhakar\n"
     ]
    }
   ],
   "source": [
    "def turntocapital(string):\n",
    "    string=string+ string\n",
    "    return string\n",
    "\n",
    "name=turntocapital('sudhakar')\n",
    "print(name)"
   ]
  },
  {
   "cell_type": "code",
   "execution_count": 2,
   "metadata": {},
   "outputs": [],
   "source": [
    "#tuples ## note tuples are not modifiable its immutable\n",
    "sudha=(1,2,3)"
   ]
  },
  {
   "cell_type": "code",
   "execution_count": 8,
   "metadata": {},
   "outputs": [
    {
     "name": "stdout",
     "output_type": "stream",
     "text": [
      "<class 'tuple'>\n"
     ]
    }
   ],
   "source": [
    "print(type(sudha))"
   ]
  },
  {
   "cell_type": "code",
   "execution_count": 9,
   "metadata": {},
   "outputs": [],
   "source": [
    "a,b,c=sudha"
   ]
  },
  {
   "cell_type": "code",
   "execution_count": 10,
   "metadata": {},
   "outputs": [
    {
     "name": "stdout",
     "output_type": "stream",
     "text": [
      "1\n",
      "2\n",
      "3\n"
     ]
    }
   ],
   "source": [
    "print(a)\n",
    "print(b)\n",
    "print(c)"
   ]
  },
  {
   "cell_type": "code",
   "execution_count": 11,
   "metadata": {},
   "outputs": [
    {
     "name": "stdout",
     "output_type": "stream",
     "text": [
      "(4, 9, 16)\n"
     ]
    }
   ],
   "source": [
    "# tuples exmaple with small paranthesis\n",
    "values=(2,3,4)\n",
    "def powercompute(values):\n",
    "    a1,a2,a3=values\n",
    "    a1r=a1**2\n",
    "    a2r=a2**2\n",
    "    a3r=a3**2\n",
    "    results=(a1r,a2r,a3r)\n",
    "    return results\n",
    "results=powercompute(values)\n",
    "\n",
    "print(results)"
   ]
  },
  {
   "cell_type": "code",
   "execution_count": 14,
   "metadata": {},
   "outputs": [
    {
     "data": {
      "text/plain": [
       "8"
      ]
     },
     "execution_count": 14,
     "metadata": {},
     "output_type": "execute_result"
    }
   ],
   "source": [
    "raisepower=lambda x,y: x**y\n",
    "raisepower(2,3)"
   ]
  },
  {
   "cell_type": "code",
   "execution_count": 15,
   "metadata": {},
   "outputs": [],
   "source": [
    "num=[1,2,3,4,5,6]"
   ]
  },
  {
   "cell_type": "code",
   "execution_count": 16,
   "metadata": {},
   "outputs": [],
   "source": [
    "sudh=map(lambda x:x**2,num)"
   ]
  },
  {
   "cell_type": "code",
   "execution_count": 17,
   "metadata": {},
   "outputs": [
    {
     "name": "stdout",
     "output_type": "stream",
     "text": [
      "<map object at 0x00000153349F72B0>\n"
     ]
    }
   ],
   "source": [
    "print(sudh)"
   ]
  },
  {
   "cell_type": "code",
   "execution_count": 18,
   "metadata": {},
   "outputs": [
    {
     "name": "stdout",
     "output_type": "stream",
     "text": [
      "[1, 4, 9, 16, 25, 36]\n"
     ]
    }
   ],
   "source": [
    "print(list(sudh))"
   ]
  },
  {
   "cell_type": "code",
   "execution_count": 19,
   "metadata": {},
   "outputs": [],
   "source": [
    "\n",
    "\n",
    "sudhakar=['28','male','married','kids-yes','working']"
   ]
  },
  {
   "cell_type": "code",
   "execution_count": 30,
   "metadata": {},
   "outputs": [
    {
     "name": "stdout",
     "output_type": "stream",
     "text": [
      "['28', 'male', 'married', 'kids-yes', 'working']\n",
      "<enumerate object at 0x0000015334A12438>\n",
      "[(0, '28'), (1, 'male'), (2, 'married'), (3, 'kids-yes'), (4, 'working')]\n"
     ]
    }
   ],
   "source": [
    "print(sudhakar)\n",
    "print(enumerate(sudhakar))\n",
    "print(list(enumerate(sudhakar)))"
   ]
  },
  {
   "cell_type": "code",
   "execution_count": 28,
   "metadata": {},
   "outputs": [
    {
     "name": "stdout",
     "output_type": "stream",
     "text": [
      "10 28\n",
      "11 male\n",
      "12 married\n",
      "13 kids-yes\n",
      "14 working\n"
     ]
    }
   ],
   "source": [
    "### using enumerate tricks\n",
    "for ind,val in enumerate(sudhakar,start=10):\n",
    "    print(str(ind),val)"
   ]
  },
  {
   "cell_type": "code",
   "execution_count": 50,
   "metadata": {},
   "outputs": [
    {
     "name": "stdout",
     "output_type": "stream",
     "text": [
      "<zip object at 0x0000015334A96B48>\n",
      "[('sudhakr', '30'), ('DD', '28'), ('VD', '3'), ('bal', '25')]\n",
      "('sudhakr', '30') ('DD', '28') ('VD', '3') ('bal', '25')\n"
     ]
    }
   ],
   "source": [
    "#### using zip tricks\n",
    "avengers=['sudhakr','DD','VD','bal']\n",
    "age=['30','28','3','25']\n",
    "\n",
    "z=zip(avengers,age)\n",
    "print(z)\n",
    "print(list(z))\n",
    "\n",
    "z=zip(avengers,age)\n",
    "print(*z)"
   ]
  },
  {
   "cell_type": "code",
   "execution_count": 43,
   "metadata": {},
   "outputs": [
    {
     "name": "stdout",
     "output_type": "stream",
     "text": [
      "sudhakr 30\n",
      "DD 28\n",
      "VD 3\n",
      "bal 25\n"
     ]
    }
   ],
   "source": [
    "for z1,z2 in zip(avengers,age):\n",
    "    print(z1,z2)"
   ]
  },
  {
   "cell_type": "code",
   "execution_count": 44,
   "metadata": {},
   "outputs": [
    {
     "name": "stdout",
     "output_type": "stream",
     "text": [
      "\n"
     ]
    }
   ],
   "source": []
  },
  {
   "cell_type": "code",
   "execution_count": null,
   "metadata": {},
   "outputs": [],
   "source": []
  }
 ],
 "metadata": {
  "kernelspec": {
   "display_name": "Python 3",
   "language": "python",
   "name": "python3"
  },
  "language_info": {
   "codemirror_mode": {
    "name": "ipython",
    "version": 3
   },
   "file_extension": ".py",
   "mimetype": "text/x-python",
   "name": "python",
   "nbconvert_exporter": "python",
   "pygments_lexer": "ipython3",
   "version": "3.6.5"
  }
 },
 "nbformat": 4,
 "nbformat_minor": 2
}
