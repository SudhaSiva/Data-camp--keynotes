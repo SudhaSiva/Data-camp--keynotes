{
 "cells": [
  {
   "cell_type": "code",
   "execution_count": 254,
   "metadata": {},
   "outputs": [],
   "source": [
    "import os\n",
    "from glob import glob\n",
    "import pandas as pd\n",
    "import time"
   ]
  },
  {
   "cell_type": "code",
   "execution_count": 255,
   "metadata": {},
   "outputs": [
    {
     "name": "stdout",
     "output_type": "stream",
     "text": [
      "['fold_0_test_prediction.csv', 'fold_1_test_prediction.csv', 'fold_2_test_prediction.csv', 'fold_3_test_prediction.csv', 'fold_4_test_prediction.csv']\n"
     ]
    }
   ],
   "source": [
    " ## set file names\n",
    "filenames=glob('fold*.csv')\n",
    "print(filenames)"
   ]
  },
  {
   "cell_type": "code",
   "execution_count": 256,
   "metadata": {},
   "outputs": [
    {
     "data": {
      "text/html": [
       "<div>\n",
       "<style scoped>\n",
       "    .dataframe tbody tr th:only-of-type {\n",
       "        vertical-align: middle;\n",
       "    }\n",
       "\n",
       "    .dataframe tbody tr th {\n",
       "        vertical-align: top;\n",
       "    }\n",
       "\n",
       "    .dataframe thead th {\n",
       "        text-align: right;\n",
       "    }\n",
       "</style>\n",
       "<table border=\"1\" class=\"dataframe\">\n",
       "  <thead>\n",
       "    <tr style=\"text-align: right;\">\n",
       "      <th></th>\n",
       "      <th>image_id</th>\n",
       "      <th>fabric_type_id</th>\n",
       "      <th>fabric_toughness</th>\n",
       "      <th>toughness_prediction</th>\n",
       "    </tr>\n",
       "  </thead>\n",
       "  <tbody>\n",
       "    <tr>\n",
       "      <th>0</th>\n",
       "      <td>G00395A036.jpg</td>\n",
       "      <td>T010</td>\n",
       "      <td>0</td>\n",
       "      <td>0.000000e+00</td>\n",
       "    </tr>\n",
       "    <tr>\n",
       "      <th>1</th>\n",
       "      <td>G00395B144.jpg</td>\n",
       "      <td>T010</td>\n",
       "      <td>0</td>\n",
       "      <td>7.300973e-04</td>\n",
       "    </tr>\n",
       "    <tr>\n",
       "      <th>2</th>\n",
       "      <td>G00395B162.jpg</td>\n",
       "      <td>T010</td>\n",
       "      <td>0</td>\n",
       "      <td>1.389384e-04</td>\n",
       "    </tr>\n",
       "    <tr>\n",
       "      <th>3</th>\n",
       "      <td>G00395B036.jpg</td>\n",
       "      <td>T010</td>\n",
       "      <td>0</td>\n",
       "      <td>5.960464e-07</td>\n",
       "    </tr>\n",
       "    <tr>\n",
       "      <th>4</th>\n",
       "      <td>G00395A108.jpg</td>\n",
       "      <td>T010</td>\n",
       "      <td>0</td>\n",
       "      <td>1.607001e-03</td>\n",
       "    </tr>\n",
       "  </tbody>\n",
       "</table>\n",
       "</div>"
      ],
      "text/plain": [
       "         image_id fabric_type_id  fabric_toughness  toughness_prediction\n",
       "0  G00395A036.jpg           T010                 0          0.000000e+00\n",
       "1  G00395B144.jpg           T010                 0          7.300973e-04\n",
       "2  G00395B162.jpg           T010                 0          1.389384e-04\n",
       "3  G00395B036.jpg           T010                 0          5.960464e-07\n",
       "4  G00395A108.jpg           T010                 0          1.607001e-03"
      ]
     },
     "execution_count": 256,
     "metadata": {},
     "output_type": "execute_result"
    }
   ],
   "source": [
    "# looping through filenames\n",
    "dataframe=[pd.read_csv(f) for f in filenames] \n",
    "dataframe[0].head() \n",
    "#ype(dataframe) ## dataframe is a list"
   ]
  },
  {
   "cell_type": "code",
   "execution_count": 257,
   "metadata": {},
   "outputs": [],
   "source": [
    "def readinputs(*args):\n",
    "    imageID=args[0]\n",
    "    IDclass=args[1]\n",
    "    return imageID,IDclass"
   ]
  },
  {
   "cell_type": "code",
   "execution_count": 364,
   "metadata": {},
   "outputs": [
    {
     "name": "stdout",
     "output_type": "stream",
     "text": [
      "G00531A\n",
      "['testfolder:  0']\n",
      "nan\n",
      "['testfolder:  1']\n",
      "0.991759103328\n",
      "['testfolder:  2']\n",
      "nan\n",
      "['testfolder:  3']\n",
      "nan\n",
      "['testfolder:  4']\n",
      "nan\n",
      "G00531B\n",
      "['testfolder:  0']\n",
      "nan\n",
      "['testfolder:  1']\n",
      "0.9797957060265\n",
      "['testfolder:  2']\n",
      "nan\n",
      "['testfolder:  3']\n",
      "nan\n",
      "['testfolder:  4']\n",
      "nan\n"
     ]
    }
   ],
   "source": [
    "## Manually looping through the input fabric types\n",
    "inputlist=['G00531A','G00531B']\n",
    "targetclass=0 # target class1 for toughs and 0 for delicates\n",
    "for ind,val in enumerate(inputlist):\n",
    "    imageID,IDclass=readinputs(inputlist[ind],targetclass)\n",
    "    print(inputlist[ind])\n",
    "    for j in range(0,5):### for five test file folders\n",
    "        imagenames=dataframe[j]['image_id']\n",
    "        toughnesspredics=dataframe[j]['toughness_prediction']\n",
    "        booltracks=imagenames.str.contains(imageID)\n",
    "        #print(booltracks)\n",
    "        findIDstoavg=toughnesspredics[booltracks==True]\n",
    "        print(['testfolder:  ' +str(j)])\n",
    "        if IDclass==1:\n",
    "            print(findIDstoavg.mean())\n",
    "        else:\n",
    "            print(1-findIDstoavg.mean())\n",
    "    #time.sleep(3)"
   ]
  },
  {
   "cell_type": "code",
   "execution_count": 340,
   "metadata": {},
   "outputs": [
    {
     "data": {
      "text/plain": [
       "0.5303"
      ]
     },
     "execution_count": 340,
     "metadata": {},
     "output_type": "execute_result"
    }
   ],
   "source": [
    "(0.6069+0.4537)/2"
   ]
  },
  {
   "cell_type": "code",
   "execution_count": null,
   "metadata": {},
   "outputs": [],
   "source": []
  }
 ],
 "metadata": {
  "kernelspec": {
   "display_name": "Python 3",
   "language": "python",
   "name": "python3"
  },
  "language_info": {
   "codemirror_mode": {
    "name": "ipython",
    "version": 3
   },
   "file_extension": ".py",
   "mimetype": "text/x-python",
   "name": "python",
   "nbconvert_exporter": "python",
   "pygments_lexer": "ipython3",
   "version": "3.6.5"
  }
 },
 "nbformat": 4,
 "nbformat_minor": 2
}
